{
 "cells": [
  {
   "cell_type": "code",
   "execution_count": 1,
   "id": "cba5372f-9feb-4bf2-af49-f94f423c33ba",
   "metadata": {},
   "outputs": [
    {
     "name": "stdout",
     "output_type": "stream",
     "text": [
      "MASTER BRANCH GIGALENS\n",
      "[StreamExecutorGpuDevice(id=0, process_index=0, slice_index=0), StreamExecutorGpuDevice(id=1, process_index=0, slice_index=0), StreamExecutorGpuDevice(id=2, process_index=0, slice_index=0), StreamExecutorGpuDevice(id=3, process_index=0, slice_index=0)]\n"
     ]
    }
   ],
   "source": [
    "import os\n",
    "from os.path import expanduser\n",
    "home = expanduser(\"~/\")\n",
    "\n",
    "import sys\n",
    "# sys.path.insert(0, '/global/u2/x/xshuang/gigalens-xh-dev/src')\n",
    "\n",
    "sys.path.insert(0, home+'/gigalens'+'/src')\n",
    "print('MASTER BRANCH GIGALENS')\n",
    "\n",
    "srcdir = os.path.join(home, \"gigalens/src/\")\n",
    "\n",
    "import jax\n",
    "print(jax.devices())\n"
   ]
  },
  {
   "cell_type": "code",
   "execution_count": 2,
   "id": "39f52ca1-df62-492a-a401-776919216637",
   "metadata": {},
   "outputs": [
    {
     "name": "stderr",
     "output_type": "stream",
     "text": [
      "/global/common/software/deepsrch/jax_gigalens_kernel/jax-gigalens/lib/python3.11/site-packages/tqdm/auto.py:21: TqdmWarning: IProgress not found. Please update jupyter and ipywidgets. See https://ipywidgets.readthedocs.io/en/stable/user_install.html\n",
      "  from .autonotebook import tqdm as notebook_tqdm\n"
     ]
    },
    {
     "data": {
      "text/plain": [
       "[StreamExecutorGpuDevice(id=0, process_index=0, slice_index=0),\n",
       " StreamExecutorGpuDevice(id=1, process_index=0, slice_index=0),\n",
       " StreamExecutorGpuDevice(id=2, process_index=0, slice_index=0),\n",
       " StreamExecutorGpuDevice(id=3, process_index=0, slice_index=0)]"
      ]
     },
     "execution_count": 2,
     "metadata": {},
     "output_type": "execute_result"
    }
   ],
   "source": [
    "from gigalens.jax.inference import ModellingSequence\n",
    "from gigalens.jax.model import ForwardProbModel, BackwardProbModel\n",
    "from gigalens.model import PhysicalModel\n",
    "from gigalens.jax.simulator import LensSimulator\n",
    "from gigalens.simulator import SimulatorConfig\n",
    "from gigalens.jax.profiles.light import sersic\n",
    "from gigalens.jax.profiles.mass import epl, shear\n",
    "\n",
    "import tensorflow_probability.substrates.jax as tfp\n",
    "import jax\n",
    "from jax import random\n",
    "import numpy as np\n",
    "import optax\n",
    "from jax import numpy as jnp\n",
    "from matplotlib import pyplot as plt\n",
    "import optax\n",
    "import corner\n",
    "import yaml\n",
    "import pickle\n",
    "from helpers import *\n",
    "tfd = tfp.distributions\n",
    "jax.devices()"
   ]
  },
  {
   "cell_type": "code",
   "execution_count": 3,
   "id": "cd378ac7-7a17-4f48-a16d-933f3e43a4de",
   "metadata": {},
   "outputs": [],
   "source": [
    "# * Load in data\n",
    "systems_dir = \"SystemSaves\"\n",
    "\n",
    "f = np.load(os.path.join(systems_dir, \"100Systems60px.npz\"))\n",
    "keys = f.files\n",
    "observed_imgs = jnp.array([f[key] for key in keys])\n",
    "\n",
    "\n",
    "\n",
    "\n",
    "filename = os.path.join(systems_dir, '100SystemsParams.yaml')\n",
    "with open(filename, 'r') as file:\n",
    "    true_params = params_lists_to_jax(yaml.safe_load(file))\n"
   ]
  },
  {
   "cell_type": "code",
   "execution_count": 4,
   "id": "e2302440-40e4-415c-9acc-dc9138d2da9e",
   "metadata": {},
   "outputs": [],
   "source": [
    "#* Initialize Priors\n",
    "lens_prior = tfd.JointDistributionSequential(\n",
    "    [\n",
    "        tfd.JointDistributionNamed(\n",
    "            dict(\n",
    "                theta_E=tfd.LogNormal(jnp.log(1.25), 0.25),\n",
    "                gamma=tfd.TruncatedNormal(2, 0.25, 1, 3),\n",
    "                e1=tfd.Normal(0, 0.1),\n",
    "                e2=tfd.Normal(0, 0.1),\n",
    "                center_x=tfd.Normal(0, 0.05),\n",
    "                center_y=tfd.Normal(0, 0.05),\n",
    "            )\n",
    "        ),\n",
    "        tfd.JointDistributionNamed(\n",
    "            dict(gamma1=tfd.Normal(0, 0.05), gamma2=tfd.Normal(0, 0.05))\n",
    "        ),\n",
    "    ]\n",
    ")\n",
    "lens_light_prior = tfd.JointDistributionSequential(\n",
    "    [\n",
    "        tfd.JointDistributionNamed(\n",
    "            dict(\n",
    "                R_sersic=tfd.LogNormal(jnp.log(1.0), 0.15),\n",
    "                n_sersic=tfd.Uniform(1, 6),\n",
    "                e1=tfd.TruncatedNormal(0, 0.1, -0.3, 0.3),\n",
    "                e2=tfd.TruncatedNormal(0, 0.1, -0.3, 0.3),\n",
    "                center_x=tfd.Normal(0, 0.05),\n",
    "                center_y=tfd.Normal(0, 0.05),\n",
    "                Ie=tfd.LogNormal(jnp.log(100.0), 0.3),\n",
    "            )\n",
    "        )\n",
    "    ]\n",
    ")\n",
    "\n",
    "source_light_prior = tfd.JointDistributionSequential(\n",
    "    [\n",
    "        tfd.JointDistributionNamed(\n",
    "            dict(\n",
    "                R_sersic=tfd.LogNormal(jnp.log(0.25), 0.15),\n",
    "                n_sersic=tfd.Uniform(0.5, 4),\n",
    "                e1=tfd.TruncatedNormal(0, 0.15, -0.5, 0.5),\n",
    "                e2=tfd.TruncatedNormal(0, 0.15, -0.5, 0.5),\n",
    "                center_x=tfd.Normal(0, 0.25),\n",
    "                center_y=tfd.Normal(0, 0.25),\n",
    "                Ie=tfd.LogNormal(jnp.log(400.0), 0.5),\n",
    "            )\n",
    "        )\n",
    "    ]\n",
    ")\n",
    "\n",
    "prior = tfd.JointDistributionSequential(\n",
    "    [lens_prior, lens_light_prior, source_light_prior]\n",
    ")"
   ]
  },
  {
   "cell_type": "code",
   "execution_count": 5,
   "id": "8bba02a6-d470-49a0-9a6d-98fe4a0a7d96",
   "metadata": {},
   "outputs": [],
   "source": [
    "kernel = np.load('/global/homes/l/linusu/gigalens/src/gigalens/assets/psf.npy').astype(np.float32)\n",
    "sim_config = SimulatorConfig(delta_pix=0.065, num_pix=60, supersample=2, kernel=kernel)\n",
    "phys_model = PhysicalModel([epl.EPL(50), shear.Shear()], [sersic.SersicEllipse(use_lstsq=False)], [sersic.SersicEllipse(use_lstsq=False)])\n",
    "lens_sim = LensSimulator(phys_model, sim_config, bs=1)\n",
    "\n",
    "save_prefix = f'FitSaves/FitResults60px'"
   ]
  },
  {
   "cell_type": "code",
   "execution_count": 6,
   "id": "69123092-d765-4875-94be-56cbf144d93a",
   "metadata": {
    "scrolled": true
   },
   "outputs": [
    {
     "name": "stdout",
     "output_type": "stream",
     "text": [
      "0\n",
      "Starting MAP\n"
     ]
    },
    {
     "name": "stderr",
     "output_type": "stream",
     "text": [
      "Chi-squared: 1.033: 100%|██████████| 350/350 [00:26<00:00, 13.23it/s] \n"
     ]
    },
    {
     "name": "stdout",
     "output_type": "stream",
     "text": [
      "Starting SVI\n"
     ]
    },
    {
     "name": "stderr",
     "output_type": "stream",
     "text": [
      "ELBO: -6.012: 100%|██████████| 1500/1500 [01:28<00:00, 16.98it/s] \n"
     ]
    },
    {
     "name": "stdout",
     "output_type": "stream",
     "text": [
      "Starting HMC\n",
      "Sampling took 72.0s\n"
     ]
    }
   ],
   "source": [
    "indices = [0]#list(range(len(observed_imgs)))\n",
    "\n",
    "skip_indices = []#[4, 27]\n",
    "\n",
    "for i in indices:\n",
    "    print(i)\n",
    "    img = observed_imgs[i]\n",
    "    if i in skip_indices:\n",
    "        print(\"Skipping because of previous failure to converge\")\n",
    "        continue\n",
    "    \n",
    "    results = simulate_system(img, prior, ModellingSequence, sim_config, phys_model, lens_sim, map_steps=350)\n",
    "    # results = {\"map_best\":map_best, \"SVI_samples\":SVI_samples, \"HMC_samples\":HMC_samples, \"HMC_median\":HMC_median, \"HMC_img\":HMC_img,\n",
    "    #            \"map_chisq_hist\":map_chisq_hist, \"svi_loss_hist\":svi_loss_hist}\n",
    "    \n",
    "    # filename = f'{save_prefix}_{i}.pkl'\n",
    "    # with open(filename, 'wb') as file:\n",
    "    #     pickle.dump(results, file)\n",
    "    "
   ]
  },
  {
   "cell_type": "code",
   "execution_count": 7,
   "id": "8d526db7-da19-4773-9fab-c07d8e530298",
   "metadata": {},
   "outputs": [
    {
     "data": {
      "text/plain": [
       "Array([1.003408 , 1.0012431, 1.0363746, 1.0078332, 1.0421777, 1.0206746,\n",
       "       1.0144774, 1.0064628, 1.0028504, 1.0027279, 1.0009372, 1.0005323,\n",
       "       1.000013 , 1.0012493, 1.0029238, 1.0045134, 1.0215322, 1.0373538,\n",
       "       1.0382172, 1.0059228, 1.0008801, 1.0035137], dtype=float32)"
      ]
     },
     "execution_count": 7,
     "metadata": {},
     "output_type": "execute_result"
    }
   ],
   "source": [
    "results['HMC'].HMC_rhat"
   ]
  },
  {
   "cell_type": "code",
   "execution_count": 8,
   "id": "e93d0bb9-716b-4ca4-852c-f9245f0737b0",
   "metadata": {},
   "outputs": [
    {
     "ename": "NameError",
     "evalue": "name 'qz' is not defined",
     "output_type": "error",
     "traceback": [
      "\u001b[0;31m---------------------------------------------------------------------------\u001b[0m",
      "\u001b[0;31mNameError\u001b[0m                                 Traceback (most recent call last)",
      "Cell \u001b[0;32mIn[8], line 1\u001b[0m\n\u001b[0;32m----> 1\u001b[0m c \u001b[38;5;241m=\u001b[39m \u001b[43mqz\u001b[49m\u001b[38;5;241m.\u001b[39mcovariance()\n",
      "\u001b[0;31mNameError\u001b[0m: name 'qz' is not defined"
     ]
    }
   ],
   "source": [
    "c = qz.covariance()"
   ]
  },
  {
   "cell_type": "code",
   "execution_count": null,
   "id": "480d2e8f-049f-412b-954f-596faeb7f61f",
   "metadata": {},
   "outputs": [],
   "source": [
    "ev = jnp.linalg.eigvalsh(c)\n",
    "jnp.min(ev), jnp.max(ev)"
   ]
  },
  {
   "cell_type": "code",
   "execution_count": null,
   "id": "5ce80b25-12e5-4143-b926-6846e0c513ad",
   "metadata": {},
   "outputs": [],
   "source": [
    "# refit_idx = 56\n",
    "# res = simulate_system(observed_imgs[refit_idx], prior, sim_config, \n",
    "#                       phys_model, lens_sim, start_svi_from_truth=True, \n",
    "#                       true_params=index_params(true_params, refit_idx), map_steps=350, n_vi=10000)\n",
    "\n",
    "\n",
    "# with open(f'{save_prefix}_{refit_idx}_SVITruthVI10000.pkl', 'wb') as file:\n",
    "#     pickle.dump(res, file)"
   ]
  },
  {
   "cell_type": "code",
   "execution_count": null,
   "id": "e4708fc5-a67f-4a5c-977e-279e55792d26",
   "metadata": {},
   "outputs": [],
   "source": [
    "i = 0\n",
    "filename = f'{save_prefix}_{i}.pkl'\n",
    "with open(filename, 'rb') as file:\n",
    "    r = pickle.load(file)\n",
    "\n",
    "display_results(r, observed_imgs[i], index_params(true_params, i), lens_sim)"
   ]
  },
  {
   "cell_type": "code",
   "execution_count": null,
   "id": "f9ae339e",
   "metadata": {},
   "outputs": [],
   "source": [
    "\n",
    "i = 54\n",
    "filename = f'FitSaves/FitResults_{i}.pkl'\n",
    "with open(filename, 'rb') as file:\n",
    "    r_original = pickle.load(file)\n",
    "\n",
    "filename = f'FitSaves/ReFitResults_{i}.pkl'\n",
    "with open(filename, 'rb') as file:\n",
    "    r_refit = pickle.load(file)\n",
    "\n",
    "filename = f'FitSaves/ReFitResults_{i}_MAP5600.pkl'\n",
    "with open(filename, 'rb') as file:\n",
    "    r_refit2 = pickle.load(file)\n",
    "\n",
    "plt.title(\"SVI Curves with different MAP starting points\")\n",
    "plt.plot(r_original['svi_loss_hist'], label=f\"350 MAP Steps\")\n",
    "plt.plot(r_refit['svi_loss_hist'], label=f\"1400 MAP Steps\")\n",
    "plt.plot(r_refit2['svi_loss_hist'], label=f\"5600 MAP Steps\")\n",
    "plt.legend()\n",
    "plt.yscale('log')\n",
    "plt.show()\n"
   ]
  },
  {
   "cell_type": "code",
   "execution_count": null,
   "id": "91e6020a-537b-4740-a3db-3cec88c13c28",
   "metadata": {},
   "outputs": [],
   "source": [
    "schedule_fn = optax.polynomial_schedule(init_value=-1e-6, end_value=-3e-3,\n",
    "                                          power=2, transition_steps=300)\n",
    "\n",
    "dummy_x = np.arange(1500)\n",
    "plt.plot(dummy_x, schedule_fn(dummy_x))\n",
    "plt.title(\"SVI Schedule Function\")\n",
    "plt.show()"
   ]
  },
  {
   "cell_type": "code",
   "execution_count": null,
   "id": "ce0dd8ae-5258-4b69-bb5a-1938f7f609f9",
   "metadata": {},
   "outputs": [],
   "source": [
    "from scipy.signal import correlate2d\n",
    "autocorr = correlate2d(observed_imgs[0], norm_residuals[0], mode='full', boundary='symm')\n",
    "autocorr /= np.max(autocorr)  # normalize\n",
    "plt.imshow(autocorr)"
   ]
  },
  {
   "cell_type": "code",
   "execution_count": null,
   "id": "7df61517-d087-443d-ab6a-36216a882c3b",
   "metadata": {},
   "outputs": [],
   "source": []
  },
  {
   "cell_type": "code",
   "execution_count": null,
   "id": "01d5f221-48ea-4851-a402-50c11e63ffde",
   "metadata": {},
   "outputs": [],
   "source": []
  }
 ],
 "metadata": {
  "kernelspec": {
   "display_name": "Python 3",
   "language": "python",
   "name": "python3"
  },
  "language_info": {
   "codemirror_mode": {
    "name": "ipython",
    "version": 3
   },
   "file_extension": ".py",
   "mimetype": "text/x-python",
   "name": "python",
   "nbconvert_exporter": "python",
   "pygments_lexer": "ipython3",
   "version": "3.11.9"
  }
 },
 "nbformat": 4,
 "nbformat_minor": 5
}
