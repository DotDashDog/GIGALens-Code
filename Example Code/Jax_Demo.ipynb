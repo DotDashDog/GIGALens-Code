{
 "cells": [
  {
   "cell_type": "markdown",
   "id": "78a5f0b3-de27-49d9-a584-75e2975a9291",
   "metadata": {
    "id": "78a5f0b3-de27-49d9-a584-75e2975a9291"
   },
   "source": [
    "## Demo for Jax Gigalens env\n",
    "\n",
    "**Please CHANGE the relative path before using.**\n",
    "\n",
    "Please run this notebook on an exclusive GPU node and select the JAX GIGALENS kernel."
   ]
  },
  {
   "cell_type": "code",
   "execution_count": 1,
   "id": "4ac3ff52-452c-4a9e-be28-f2a82c705ba4",
   "metadata": {
    "id": "4ac3ff52-452c-4a9e-be28-f2a82c705ba4",
    "outputId": "06391ae6-e2e8-4633-9f00-89e3880128a8",
    "tags": []
   },
   "outputs": [
    {
     "name": "stdout",
     "output_type": "stream",
     "text": [
      "MASTER BRANCH GIGALENS\n",
      "[StreamExecutorGpuDevice(id=0, process_index=0, slice_index=0), StreamExecutorGpuDevice(id=1, process_index=0, slice_index=0), StreamExecutorGpuDevice(id=2, process_index=0, slice_index=0), StreamExecutorGpuDevice(id=3, process_index=0, slice_index=0)]\n"
     ]
    }
   ],
   "source": [
    "from os.path import expanduser\n",
    "home = expanduser(\"~/\")\n",
    "\n",
    "import sys\n",
    "# sys.path.insert(0, '/global/u2/x/xshuang/gigalens-xh-dev/src')\n",
    "sbalta01_dev = False\n",
    "\n",
    "if sbalta01_dev:\n",
    "    sys.path.insert(0, home+'/gigalens-sbalta01-dev'+'/src')\n",
    "    print('DEVELOPER MODE')\n",
    "\n",
    "else:\n",
    "    sys.path.insert(0, home+'/gigalens'+'/src')\n",
    "    print('MASTER BRANCH GIGALENS')\n",
    "\n",
    "\n",
    "import jax\n",
    "print(jax.devices())\n"
   ]
  },
  {
   "cell_type": "code",
   "execution_count": 2,
   "id": "302487f4-ff62-4269-811c-1d66be2dac66",
   "metadata": {
    "id": "302487f4-ff62-4269-811c-1d66be2dac66",
    "outputId": "2729e7e8-a65b-45e0-c5ca-d717aa18ca74",
    "tags": []
   },
   "outputs": [
    {
     "name": "stderr",
     "output_type": "stream",
     "text": [
      "/global/common/software/deepsrch/jax_gigalens_kernel/jax-gigalens/lib/python3.11/site-packages/tqdm/auto.py:21: TqdmWarning: IProgress not found. Please update jupyter and ipywidgets. See https://ipywidgets.readthedocs.io/en/stable/user_install.html\n",
      "  from .autonotebook import tqdm as notebook_tqdm\n"
     ]
    }
   ],
   "source": [
    "from gigalens.jax.inference import ModellingSequence\n",
    "from gigalens.jax.model import ForwardProbModel, BackwardProbModel\n",
    "from gigalens.model import PhysicalModel\n",
    "from gigalens.jax.simulator import LensSimulator\n",
    "from gigalens.simulator import SimulatorConfig\n",
    "from gigalens.jax.profiles.light import sersic\n",
    "from gigalens.jax.profiles.mass import epl, shear\n",
    "\n",
    "import tensorflow_probability.substrates.jax as tfp\n",
    "import jax\n",
    "from jax import random\n",
    "import numpy as np\n",
    "import optax\n",
    "from jax import numpy as jnp\n",
    "from matplotlib import pyplot as plt\n",
    "import optax\n",
    "tfd = tfp.distributions"
   ]
  },
  {
   "cell_type": "code",
   "execution_count": 3,
   "id": "06417bdd-dab6-4b52-b59c-cc39c94960bd",
   "metadata": {
    "id": "06417bdd-dab6-4b52-b59c-cc39c94960bd",
    "outputId": "a3454c7c-dc6a-4665-e09b-ce39c2be747c",
    "tags": []
   },
   "outputs": [
    {
     "data": {
      "text/plain": [
       "[StreamExecutorGpuDevice(id=0, process_index=0, slice_index=0),\n",
       " StreamExecutorGpuDevice(id=1, process_index=0, slice_index=0),\n",
       " StreamExecutorGpuDevice(id=2, process_index=0, slice_index=0),\n",
       " StreamExecutorGpuDevice(id=3, process_index=0, slice_index=0)]"
      ]
     },
     "execution_count": 3,
     "metadata": {},
     "output_type": "execute_result"
    }
   ],
   "source": [
    "jax.devices()"
   ]
  },
  {
   "cell_type": "code",
   "execution_count": 4,
   "id": "a0650cf8-ab34-46fb-9384-38882b04c0e7",
   "metadata": {
    "id": "a0650cf8-ab34-46fb-9384-38882b04c0e7",
    "outputId": "4df12cfd-26cc-4a80-8bf2-da69d9646306",
    "tags": []
   },
   "outputs": [],
   "source": [
    "lens_prior = tfd.JointDistributionSequential(\n",
    "    [\n",
    "        tfd.JointDistributionNamed(\n",
    "            dict(\n",
    "                theta_E=tfd.LogNormal(jnp.log(1.25), 0.25),\n",
    "                gamma=tfd.TruncatedNormal(2, 0.25, 1, 3),\n",
    "                e1=tfd.Normal(0, 0.1),\n",
    "                e2=tfd.Normal(0, 0.1),\n",
    "                center_x=tfd.Normal(0, 0.05),\n",
    "                center_y=tfd.Normal(0, 0.05),\n",
    "            )\n",
    "        ),\n",
    "        tfd.JointDistributionNamed(\n",
    "            dict(gamma1=tfd.Normal(0, 0.05), gamma2=tfd.Normal(0, 0.05))\n",
    "        ),\n",
    "    ]\n",
    ")\n",
    "lens_light_prior = tfd.JointDistributionSequential(\n",
    "    [\n",
    "        tfd.JointDistributionNamed(\n",
    "            dict(\n",
    "                R_sersic=tfd.LogNormal(jnp.log(1.0), 0.15),\n",
    "                n_sersic=tfd.Uniform(2, 6),\n",
    "                e1=tfd.TruncatedNormal(0, 0.1, -0.3, 0.3),\n",
    "                e2=tfd.TruncatedNormal(0, 0.1, -0.3, 0.3),\n",
    "                center_x=tfd.Normal(0, 0.05),\n",
    "                center_y=tfd.Normal(0, 0.05),\n",
    "                Ie=tfd.LogNormal(jnp.log(500.0), 0.3),\n",
    "            )\n",
    "        )\n",
    "    ]\n",
    ")\n",
    "\n",
    "source_light_prior = tfd.JointDistributionSequential(\n",
    "    [\n",
    "        tfd.JointDistributionNamed(\n",
    "            dict(\n",
    "                R_sersic=tfd.LogNormal(jnp.log(0.25), 0.15),\n",
    "                n_sersic=tfd.Uniform(0.5, 4),\n",
    "                e1=tfd.TruncatedNormal(0, 0.15, -0.5, 0.5),\n",
    "                e2=tfd.TruncatedNormal(0, 0.15, -0.5, 0.5),\n",
    "                center_x=tfd.Normal(0, 0.25),\n",
    "                center_y=tfd.Normal(0, 0.25),\n",
    "                Ie=tfd.LogNormal(jnp.log(150.0), 0.5),\n",
    "            )\n",
    "        )\n",
    "    ]\n",
    ")\n",
    "\n",
    "prior = tfd.JointDistributionSequential(\n",
    "    [lens_prior, lens_light_prior, source_light_prior]\n",
    ")\n",
    "\n"
   ]
  },
  {
   "cell_type": "code",
   "execution_count": 5,
   "id": "acea54a4-9fe1-4277-a45b-a177050c2a14",
   "metadata": {
    "id": "acea54a4-9fe1-4277-a45b-a177050c2a14"
   },
   "outputs": [],
   "source": [
    "kernel = np.load('/global/homes/l/linusu/gigalens/src/gigalens/assets/psf.npy').astype(np.float32)\n",
    "sim_config = SimulatorConfig(delta_pix=0.065, num_pix=60, supersample=2, kernel=kernel)\n",
    "phys_model = PhysicalModel([epl.EPL(50), shear.Shear()], [sersic.SersicEllipse(use_lstsq=False)], [sersic.SersicEllipse(use_lstsq=False)])\n",
    "lens_sim = LensSimulator(phys_model, sim_config, bs=1)\n",
    "observed_img = np.load('/global/homes/l/linusu/gigalens/src/gigalens/assets/demo.npy')\n",
    "prob_model = ForwardProbModel(prior, observed_img, background_rms=0.2, exp_time=100)\n",
    "model_seq = ModellingSequence(phys_model, prob_model, sim_config)"
   ]
  },
  {
   "cell_type": "code",
   "execution_count": 6,
   "id": "b9de03cd-12df-430a-9a84-53cf61d9d08e",
   "metadata": {},
   "outputs": [
    {
     "name": "stderr",
     "output_type": "stream",
     "text": [
      "Chi-squared: 0.986: 100%|██████████| 350/350 [00:20<00:00, 17.04it/s] \n"
     ]
    }
   ],
   "source": [
    "schedule_fn = optax.polynomial_schedule(init_value=-1e-2, end_value=-1e-2/3,\n",
    "                                      power=0.5, transition_steps=500)\n",
    "opt = optax.chain(\n",
    "  optax.scale_by_adam(),\n",
    "  optax.scale_by_schedule(schedule_fn),\n",
    ")\n",
    "#* Returns parameters for each test particle\n",
    "map_estimate = model_seq.MAP(opt, seed=0)"
   ]
  },
  {
   "cell_type": "code",
   "execution_count": 7,
   "id": "e77e704b-0c3d-4adb-ab54-af186652ae88",
   "metadata": {},
   "outputs": [],
   "source": [
    "#* Finds the log probability of each test particle\n",
    "lps = prob_model.log_prob(LensSimulator(phys_model, sim_config, bs=500), map_estimate)[0]\n",
    "#* Get parameters for best test particle\n",
    "best = map_estimate[jnp.argmax(lps)][jnp.newaxis,:]"
   ]
  },
  {
   "cell_type": "code",
   "execution_count": 9,
   "id": "a6ef8007-d9d9-44e8-a4cc-80a0cec46ffa",
   "metadata": {},
   "outputs": [
    {
     "data": {
      "text/plain": [
       "[[{'theta_E': Array([1.101779], dtype=float32),\n",
       "   'gamma': Array([1.8973744], dtype=float32),\n",
       "   'e2': Array([0.09508309], dtype=float32),\n",
       "   'e1': Array([0.08808332], dtype=float32),\n",
       "   'center_y': Array([-0.0022622], dtype=float32),\n",
       "   'center_x': Array([0.10186656], dtype=float32)},\n",
       "  {'gamma2': Array([0.0355338], dtype=float32),\n",
       "   'gamma1': Array([-0.00309265], dtype=float32)}],\n",
       " [{'n_sersic': Array([2.6345026], dtype=float32),\n",
       "   'e2': Array([0.14800864], dtype=float32),\n",
       "   'e1': Array([0.09624715], dtype=float32),\n",
       "   'center_y': Array([0.00048006], dtype=float32),\n",
       "   'center_x': Array([0.0996528], dtype=float32),\n",
       "   'R_sersic': Array([0.8305198], dtype=float32),\n",
       "   'Ie': Array([461.96448], dtype=float32)}],\n",
       " [{'n_sersic': Array([1.6322263], dtype=float32),\n",
       "   'e2': Array([0.00659892], dtype=float32),\n",
       "   'e1': Array([-0.00838381], dtype=float32),\n",
       "   'center_y': Array([-0.0588885], dtype=float32),\n",
       "   'center_x': Array([0.09711999], dtype=float32),\n",
       "   'R_sersic': Array([0.2291743], dtype=float32),\n",
       "   'Ie': Array([137.76694], dtype=float32)}]]"
      ]
     },
     "execution_count": 9,
     "metadata": {},
     "output_type": "execute_result"
    }
   ],
   "source": []
  },
  {
   "cell_type": "code",
   "execution_count": 8,
   "id": "eca23201-0986-4548-bb25-c41e05ee00c6",
   "metadata": {},
   "outputs": [
    {
     "name": "stdout",
     "output_type": "stream",
     "text": [
      "[[ 1.0186656e-01 -2.2622033e-03  8.8083319e-02  9.5083088e-02\n",
      "  -2.0597641e-01  9.6926227e-02 -3.0926461e-03  3.5533804e-02\n",
      "   6.1354880e+00 -1.8570353e-01  9.9652804e-02  4.8005613e-04\n",
      "   6.6513050e-01  1.0809889e+00 -1.6684896e+00  4.9255633e+00\n",
      "  -1.4732724e+00  9.7119994e-02 -5.8888499e-02 -3.3538461e-02\n",
      "   2.6397170e-02 -7.3776418e-01]]\n"
     ]
    }
   ],
   "source": [
    "print(best)"
   ]
  },
  {
   "cell_type": "code",
   "execution_count": 9,
   "id": "a08e6f63-8350-4d1d-8f93-348b98b6969c",
   "metadata": {},
   "outputs": [
    {
     "data": {
      "text/plain": [
       "Array([[ 1.00590356e-01, -1.88869960e-03,  8.27936754e-02, ...,\n",
       "        -5.80707341e-02,  4.30759013e-01, -5.77628791e-01],\n",
       "       [-2.95598179e-01, -2.29641661e-01,  2.70568859e-02, ...,\n",
       "         3.01679850e-01, -5.91614366e-01,  6.18013978e-01],\n",
       "       [ 6.01531826e-02,  7.43113011e-02, -1.11437380e-01, ...,\n",
       "        -1.13873208e+00,  3.15286458e-01, -4.71661472e+00],\n",
       "       ...,\n",
       "       [ 1.67986706e-01, -5.49579784e-02, -5.11551261e-01, ...,\n",
       "        -1.20699131e+00,  1.03165436e+00,  6.17846727e-01],\n",
       "       [-4.13139649e-02,  7.59302795e-01, -2.79936194e-01, ...,\n",
       "         3.08737326e+00,  1.03677392e+00, -2.52393317e+00],\n",
       "       [ 4.93191183e-01, -4.98633198e-02, -6.32646829e-02, ...,\n",
       "        -9.57388878e-01, -5.87239623e-01,  6.81307495e-01]],      dtype=float32)"
      ]
     },
     "execution_count": 9,
     "metadata": {},
     "output_type": "execute_result"
    }
   ],
   "source": [
    "map_estimate"
   ]
  },
  {
   "cell_type": "code",
   "execution_count": null,
   "id": "b12e229e-eeba-4471-838f-f4d2d16d2b47",
   "metadata": {},
   "outputs": [],
   "source": [
    "# NCCL_IB_DISABLE=1\n",
    "# NCCL_SOCKET_IFNAME=enp"
   ]
  },
  {
   "cell_type": "code",
   "execution_count": null,
   "id": "de002719-4525-4a10-99cd-022498297744",
   "metadata": {},
   "outputs": [],
   "source": [
    "schedule_fn = optax.polynomial_schedule(init_value=-1e-6, end_value=-3e-3,\n",
    "                                      power=2, transition_steps=300)\n",
    "opt = optax.chain(\n",
    "  optax.scale_by_adam(),\n",
    "  optax.scale_by_schedule(schedule_fn),\n",
    ")\n",
    "qz, loss_hist = model_seq.SVI(best, opt, n_vi=1000, num_steps=1500)"
   ]
  },
  {
   "cell_type": "code",
   "execution_count": null,
   "id": "e3c7c3cf-08c8-4f70-8c2a-5789c3a58a69",
   "metadata": {},
   "outputs": [],
   "source": [
    "plt.plot(loss_hist)\n",
    "plt.savefig(\"./output.jpg\")"
   ]
  },
  {
   "cell_type": "code",
   "execution_count": null,
   "id": "5da708be-d6be-4c69-be39-9d015109d0e3",
   "metadata": {},
   "outputs": [],
   "source": [
    "samples = model_seq.HMC(qz, num_burnin_steps=250, num_results=750)"
   ]
  },
  {
   "cell_type": "code",
   "execution_count": null,
   "id": "a5e80429-954e-4704-b54c-37f9e218d077",
   "metadata": {},
   "outputs": [],
   "source": [
    "rhat= tfp.mcmc.potential_scale_reduction(jnp.transpose(samples.all_states, (1,2,0,3)), independent_chain_ndims=2)\n",
    "\n",
    "print(rhat)"
   ]
  }
 ],
 "metadata": {
  "colab": {
   "provenance": []
  },
  "kernelspec": {
   "display_name": "JAX GIGALENS",
   "language": "python",
   "name": "jax-gigalens-kernel"
  },
  "language_info": {
   "codemirror_mode": {
    "name": "ipython",
    "version": 3
   },
   "file_extension": ".py",
   "mimetype": "text/x-python",
   "name": "python",
   "nbconvert_exporter": "python",
   "pygments_lexer": "ipython3",
   "version": "3.11.9"
  }
 },
 "nbformat": 4,
 "nbformat_minor": 5
}
